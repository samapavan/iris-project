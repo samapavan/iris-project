{
 "cells": [
  {
   "cell_type": "code",
   "execution_count": 2,
   "id": "c222c8b3",
   "metadata": {},
   "outputs": [],
   "source": [
    "import pandas as pd\n",
    "import streamlit as st\n",
    "from  sklearn.datasets import load_iris\n",
    "from sklearn.ensemble import RandomForestClassifier "
   ]
  },
  {
   "cell_type": "code",
   "execution_count": 6,
   "id": "00ec2caf",
   "metadata": {},
   "outputs": [],
   "source": [
    "\n",
    "def load_data():\n",
    "    iris = load_iris()\n",
    "    df = pd.DataFrame(data=iris.data, columns=iris.feature_names)\n",
    "    df['species'] = iris.target\n",
    "    return iris.target_names,df"
   ]
  },
  {
   "cell_type": "code",
   "execution_count": null,
   "id": "50535bda",
   "metadata": {},
   "outputs": [],
   "source": [
    "@st.cache_data\n",
    "df,target_names = load_data()\n",
    "model=RandomForestClassifier()\n",
    "model.fit(df.iloc[:,:-1],df['species'])\n",
    "st.sidebar.title(\"Iris Flower Species Prediction\")\n",
    "sepal_length = st.sidebar.slider(\"Sepal Length\", float(df['sepal length (cm)'].min()), float(df['sepal length (cm)'].max()))\n",
    "sepal_width = st.sidebar.slider(\"Sepal Width\", float(df['sepal width (cm)'].min()), float(df['sepal width (cm)'].max()))\n",
    "petal_length = st.sidebar.slider(\"Petal Length\", float(df['petal length (cm)'].min()), float(df['petal length (cm)'].max()))\n",
    "petal_width = st.sidebar.slider(\"Petal Width\", float(df['petal width (cm)'].min()), float(df['petal width (cm)'].max()))\n",
    "input_data = [[sepal_length, sepal_width, petal_length, petal_width]]\n",
    "prediction = model.predict(input_data)\n",
    "prediction_species = target_names[prediction][0]\n",
    "st.write(\"Prediction\")\n",
    "st.write(f\"The predicted species is: {prediction_species}\")"
   ]
  },
  {
   "cell_type": "code",
   "execution_count": null,
   "id": "dcc151bc",
   "metadata": {},
   "outputs": [],
   "source": []
  }
 ],
 "metadata": {
  "kernelspec": {
   "display_name": "base",
   "language": "python",
   "name": "python3"
  },
  "language_info": {
   "codemirror_mode": {
    "name": "ipython",
    "version": 3
   },
   "file_extension": ".py",
   "mimetype": "text/x-python",
   "name": "python",
   "nbconvert_exporter": "python",
   "pygments_lexer": "ipython3",
   "version": "3.12.7"
  }
 },
 "nbformat": 4,
 "nbformat_minor": 5
}
